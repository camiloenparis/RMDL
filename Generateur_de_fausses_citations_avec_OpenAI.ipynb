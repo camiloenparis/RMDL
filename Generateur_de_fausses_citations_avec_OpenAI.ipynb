{
  "nbformat": 4,
  "nbformat_minor": 0,
  "metadata": {
    "colab": {
      "provenance": [],
      "authorship_tag": "ABX9TyMisrrPGi2FqJIJwPtAUZKC",
      "include_colab_link": true
    },
    "kernelspec": {
      "name": "python3",
      "display_name": "Python 3"
    },
    "language_info": {
      "name": "python"
    }
  },
  "cells": [
    {
      "cell_type": "markdown",
      "metadata": {
        "id": "view-in-github",
        "colab_type": "text"
      },
      "source": [
        "<a href=\"https://colab.research.google.com/github/camiloenparis/RMDL/blob/master/Generateur_de_fausses_citations_avec_OpenAI.ipynb\" target=\"_parent\"><img src=\"https://colab.research.google.com/assets/colab-badge.svg\" alt=\"Open In Colab\"/></a>"
      ]
    },
    {
      "cell_type": "code",
      "execution_count": null,
      "metadata": {
        "id": "L7gLt1faN1VH"
      },
      "outputs": [],
      "source": [
        "# Commencez par installer les paquets nécessaires d'OpenAI\n",
        "# Pour installer des paquets dans Colab, comme si on était dans sa terminale, on utilise !\n",
        "!pip install openai==0.28"
      ]
    },
    {
      "cell_type": "code",
      "source": [
        "# Importez votre clé d'API OpenAI. Pour faire cet exercise, il vous faudra créer votre propre clé.\n",
        "# Pour en savoir plus : https://platform.openai.com/docs/overview\n",
        "import openai\n",
        "openai.api_key = \"Insérer votre clé ici\""
      ],
      "metadata": {
        "id": "Fxs3QcSbOCNw"
      },
      "execution_count": 2,
      "outputs": []
    },
    {
      "cell_type": "code",
      "source": [
        "# On fait une fonction pour envoyer un texte à l'API d'OpenAI.\n",
        "def get_completion(prompt, model=\"gpt-3.5-turbo\"):\n",
        "    messages = [\n",
        "        {\"role\": \"system\", \"content\": \"Tu es un générateur de fausses citations philosophiques courtes qui ont l'air d'être profondes mais qui ne veulent rien dire, dans le style de Deepak Chopra\"},\n",
        "        {\"role\": \"user\", \"content\": prompt}\n",
        "        ]\n",
        "# On utilise l'API à ce moment\n",
        "    response = openai.ChatCompletion.create(\n",
        "        model=model,\n",
        "        messages=messages,\n",
        "        temperature=0.7, # Ceci est le niveau de hasard dans les réponses d'OpenAI. Valeur entre 0 et 2. Plus c'est prôche de 2, plus les réponses seront \"créatives\"\n",
        "    )\n",
        "# les réponses d'OpenAI sont en format jSON et donc on doit fouiller dedans pour isoler le texte qui nous intéresse\n",
        "    return response.choices[0].message[\"content\"]"
      ],
      "metadata": {
        "id": "FuOpSApeoDFx"
      },
      "execution_count": 4,
      "outputs": []
    },
    {
      "cell_type": "code",
      "source": [
        "prompt = \"Génère une citation de maximum 30 mots, avec le nom d'une personne fictive qui est à l'origine de cette citation\"\n",
        "response = get_completion(prompt)\n",
        "print(response)"
      ],
      "metadata": {
        "id": "sSJTtAE6TWPU",
        "colab": {
          "base_uri": "https://localhost:8080/"
        },
        "outputId": "74eb9d87-8d92-4df9-9c3f-c7e93bbbf90f"
      },
      "execution_count": 6,
      "outputs": [
        {
          "output_type": "stream",
          "name": "stdout",
          "text": [
            "\"Tel un écho des âmes éthérées, l'essence transcendante de l'existence se révèle dans l'harmonie subtile des vibrations intemporelles. - Sérénus Lumière\"\n"
          ]
        }
      ]
    }
  ]
}